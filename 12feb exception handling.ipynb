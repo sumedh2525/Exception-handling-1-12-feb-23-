{
 "cells": [
  {
   "cell_type": "code",
   "execution_count": 1,
   "id": "7ee1874a-004e-4851-9486-487be569dca4",
   "metadata": {},
   "outputs": [],
   "source": [
    "#  Q1. What isn Exception in pthon? Write the differen,e etween Ex,eptionsnd $ntx errors\n",
    "\n",
    "#  Ans: An exception is an event, which occurs during the execution of a program that disrupts the normal flow of the program's instructions.\n",
    "\n",
    "#  An error is an issue in a program that prevents the program from completing its task. In comparison, an exception is a condition that interrupts the normal flow of the program\n"
   ]
  },
  {
   "cell_type": "code",
   "execution_count": 2,
   "id": "a2c74bcf-16ab-41e7-a81c-fb0ef5faade8",
   "metadata": {},
   "outputs": [
    {
     "ename": "SyntaxError",
     "evalue": "invalid syntax (3032886470.py, line 2)",
     "output_type": "error",
     "traceback": [
      "\u001b[0;36m  Cell \u001b[0;32mIn[2], line 2\u001b[0;36m\u001b[0m\n\u001b[0;31m    Q2. Wht hppens when n ex,eption is not hndled? Explin with n exmple\u001b[0m\n\u001b[0m            ^\u001b[0m\n\u001b[0;31mSyntaxError\u001b[0m\u001b[0;31m:\u001b[0m invalid syntax\n"
     ]
    }
   ],
   "source": [
    "#  \n",
    "Q2. Wht hppens when n ex,eption is not hndled? Explin with n exmple\u001e",
    "\n",
    "\n",
    "\n",
    "#   If an exception is not caught, the runtime system will abort the program  and an exception message will print to the console.\n",
    "\n",
    "amount = 10000\n",
    " \n",
    "# check that You are eligible to\n",
    "#  purchase Dsa Self Paced or not\n",
    "if(amount > 2999)\n",
    "print(\"You are eligible to purchase Dsa Self Paced\")"
   ]
  },
  {
   "cell_type": "code",
   "execution_count": 7,
   "id": "f4999f9f-00a7-4c9b-bc6c-97fc42a68d3b",
   "metadata": {},
   "outputs": [
    {
     "name": "stdout",
     "output_type": "stream",
     "text": [
      "Yeah your answer is :  1\n"
     ]
    }
   ],
   "source": [
    "#   Which P\u000b",
    "thon sttements re used to catch nd hndle ex,eptions? Explin with n exmple\u001e",
    "\n",
    "\n",
    "#  Ams: Try and except block statement used\n",
    "\n",
    "def divide(x,y):\n",
    "    try:\n",
    "        result = x//y\n",
    "        print(\"Yeah your answer is : \" , result) \n",
    "        \n",
    "    except zerodivisionerror:\n",
    "        print(\"Sorry ! You are dividing by zero\")\n",
    "        \n",
    "\n",
    "divide(3,2)"
   ]
  },
  {
   "cell_type": "code",
   "execution_count": 7,
   "id": "a4c12f24-7f94-4fa7-8c53-6ef12ac81389",
   "metadata": {},
   "outputs": [
    {
     "name": "stdout",
     "output_type": "stream",
     "text": [
      "yeah ! your answer is :  1\n",
      "this is always executed\n",
      "yeah ! your answer is :  1\n",
      "this is always executed\n"
     ]
    }
   ],
   "source": [
    "#  Q4. Explin with n exmple: try and else , finally , raise\n",
    "\n",
    "\n",
    "\n",
    "def divide(x,y):\n",
    "    try:\n",
    "        result = x//y\n",
    "    except zerodivisionerror:\n",
    "        print(\"Sorry ! You are dividing by zero\")\n",
    "        \n",
    "    else:\n",
    "        print(\"yeah ! your answer is : \" , result)\n",
    "        \n",
    "    finally :\n",
    "        print(\"this is always executed\")\n",
    "\n",
    "divide(3,2)\n",
    "divide(4,3)"
   ]
  },
  {
   "cell_type": "code",
   "execution_count": 10,
   "id": "24e5f011-4c80-421c-bd86-d284a6a65ac0",
   "metadata": {},
   "outputs": [
    {
     "name": "stdin",
     "output_type": "stream",
     "text": [
      "Enter Age: 45\n"
     ]
    },
    {
     "name": "stdout",
     "output_type": "stream",
     "text": [
      "You will get match details soon by emai\n"
     ]
    }
   ],
   "source": [
    "#  Q5 What are Custon Exceptions is python? why di we need Custom Exceptions? wxplain with examples\n",
    "\n",
    "#  Ans:  can make your code much more readable and robust, and reduce the amount of code you write later to try and figure out what exactly went wrong.\n",
    "\n",
    "class tooyoungexception(Exception):\n",
    "    def __init__(self,arg):\n",
    "        self.msg = arg\n",
    "        \n",
    "class tooOldException(Exception):\n",
    "    def __init__(self,arg):\n",
    "        self.msg = arg\n",
    "age = int(input(\"Enter Age:\"))\n",
    "if age>60:\n",
    "    raise tooOldException(\"Your age already crossed marriage age no chance of getting marriage\")\n",
    "elif age<18:\n",
    "    raise tooyoungexception(\"Plz wait some more time you will get best match soon\")\n",
    "    \n",
    "else:\n",
    "    print(\"You will get match details soon by emai\")\n",
    "          "
   ]
  },
  {
   "cell_type": "code",
   "execution_count": null,
   "id": "2398e299-0c9d-4e6e-877b-f61654dc96fd",
   "metadata": {},
   "outputs": [],
   "source": []
  },
  {
   "cell_type": "code",
   "execution_count": null,
   "id": "50d3b6e0-2bbb-4003-9e50-f2e6fa3b923e",
   "metadata": {},
   "outputs": [],
   "source": []
  }
 ],
 "metadata": {
  "kernelspec": {
   "display_name": "Python 3 (ipykernel)",
   "language": "python",
   "name": "python3"
  },
  "language_info": {
   "codemirror_mode": {
    "name": "ipython",
    "version": 3
   },
   "file_extension": ".py",
   "mimetype": "text/x-python",
   "name": "python",
   "nbconvert_exporter": "python",
   "pygments_lexer": "ipython3",
   "version": "3.10.8"
  }
 },
 "nbformat": 4,
 "nbformat_minor": 5
}
